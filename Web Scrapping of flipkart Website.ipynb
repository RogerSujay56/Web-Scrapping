{
 "cells": [
  {
   "cell_type": "markdown",
   "id": "bf8e3570",
   "metadata": {},
   "source": [
    "## What is Web Scraping?\n",
    "Web scraping is a technique to automate the extraction process of a large amount of data from the website. The data present on the websites will be in unstructured format but with the help of Web scraping, you can scrape, access, and store the data in a much more structured and clean format for your further analysis."
   ]
  },
  {
   "cell_type": "markdown",
   "id": "33058df7",
   "metadata": {},
   "source": [
    "#### Step 1: Install/ Import the necessary libraries"
   ]
  },
  {
   "cell_type": "code",
   "execution_count": 1,
   "id": "8e5f8ac7",
   "metadata": {},
   "outputs": [],
   "source": [
    "from bs4 import BeautifulSoup as soup"
   ]
  },
  {
   "cell_type": "code",
   "execution_count": 2,
   "id": "0139b0c5",
   "metadata": {},
   "outputs": [],
   "source": [
    "from urllib.request import urlopen as uReq"
   ]
  },
  {
   "cell_type": "code",
   "execution_count": 3,
   "id": "34489353",
   "metadata": {},
   "outputs": [],
   "source": [
    "my_url=\"https://www.flipkart.com/search?q=poco+mobile&sid=tyy%2C4io&as=on&as-show=on&otracker=AS_QueryStore_OrganicAutoSuggest_1_5_na_na_ps&otracker1=AS_QueryStore_OrganicAutoSuggest_1_5_na_na_ps&as-pos=1&as-type=RECENT&suggestionId=poco+mobile%7CMobiles&requestId=bb3fd781-1854-41fb-9be2-92d2b0847043&as-searchtext=poco%20\"\n",
    "uClient= uReq(my_url)\n",
    "page_html=uClient.read()\n",
    "uClient.close()\n",
    "page_soup=soup(page_html,\"html.parser\")"
   ]
  },
  {
   "cell_type": "code",
   "execution_count": 4,
   "id": "4beba421",
   "metadata": {},
   "outputs": [
    {
     "name": "stdout",
     "output_type": "stream",
     "text": [
      "24\n"
     ]
    }
   ],
   "source": [
    "#Extract the Name of Mobile using the ‘find’ function where we will specify the tag and the class and store it in the ‘name’ variable.\n",
    "containers= page_soup.findAll(\"div\",{\"class\":\"_4rR01T\"})\n",
    "print(len(containers))"
   ]
  },
  {
   "cell_type": "code",
   "execution_count": 5,
   "id": "09fd7292",
   "metadata": {},
   "outputs": [
    {
     "name": "stdout",
     "output_type": "stream",
     "text": [
      "<div class=\"_4rR01T\">\n",
      " POCO C31 (Royal Blue, 64 GB)\n",
      "</div>\n",
      "\n"
     ]
    }
   ],
   "source": [
    "print(soup.prettify(containers[0]))"
   ]
  },
  {
   "cell_type": "code",
   "execution_count": 6,
   "id": "04979a24",
   "metadata": {},
   "outputs": [
    {
     "name": "stdout",
     "output_type": "stream",
     "text": [
      "POCO C31 (Royal Blue, 64 GB)\n"
     ]
    }
   ],
   "source": [
    "name = containers[0]\n",
    "print(name.text)"
   ]
  },
  {
   "cell_type": "code",
   "execution_count": 7,
   "id": "3f2c784d",
   "metadata": {},
   "outputs": [
    {
     "name": "stdout",
     "output_type": "stream",
     "text": [
      "₹7,749\n"
     ]
    }
   ],
   "source": [
    "#get price of a product\n",
    "price = page_soup.find(\"div\", {\"class\": \"_30jeq3 _1_WHN1\"})\n",
    "print(price.text)"
   ]
  },
  {
   "cell_type": "code",
   "execution_count": 8,
   "id": "359a7ba6",
   "metadata": {},
   "outputs": [
    {
     "name": "stdout",
     "output_type": "stream",
     "text": [
      "4.3\n"
     ]
    }
   ],
   "source": [
    "#get rating of a product\n",
    "rating=page_soup.find('div',class_=\"_3LWZlK\")\n",
    "\n",
    "print(rating.text)"
   ]
  },
  {
   "cell_type": "markdown",
   "id": "c9ef9f89",
   "metadata": {},
   "source": [
    "### Extracting Other specifications of the product\n",
    "It is nested in tag with class fMghEO(highlighted on the left side)"
   ]
  },
  {
   "cell_type": "code",
   "execution_count": 9,
   "id": "d13e6e9b",
   "metadata": {},
   "outputs": [
    {
     "name": "stdout",
     "output_type": "stream",
     "text": [
      "4 GB RAM | 64 GB ROM | Expandable Upto 512 GB16.59 cm (6.53 inch) HD+ Display13MP + 2MP + 2MP | 5MP Front Camera5000 mAh Lithium-ion Polymer BatteryMediaTek G35 Processor1 Year Warranty for Handset, 6 Months for Accessories\n"
     ]
    }
   ],
   "source": [
    "#get other details and specifications of the product\n",
    "specification=page_soup.find('div',class_=\"fMghEO\")\n",
    "print(specification.text)"
   ]
  },
  {
   "cell_type": "markdown",
   "id": "53c9619d",
   "metadata": {},
   "source": [
    "## If we want to get each specification separately then we will run the below code."
   ]
  },
  {
   "cell_type": "code",
   "execution_count": 10,
   "id": "028ec58e",
   "metadata": {},
   "outputs": [
    {
     "name": "stdout",
     "output_type": "stream",
     "text": [
      "4 GB RAM | 64 GB ROM | Expandable Upto 512 GB\n",
      "16.59 cm (6.53 inch) HD+ Display\n",
      "13MP + 2MP + 2MP | 5MP Front Camera\n",
      "MediaTek G35 Processor\n",
      "1 Year Warranty for Handset, 6 Months for Accessories\n"
     ]
    }
   ],
   "source": [
    "for each in specification:\n",
    "    spec=each.find_all('li',class_='rgWa7D')\n",
    "    print(spec[0].text)\n",
    "    print(spec[1].text)\n",
    "    print(spec[2].text)\n",
    "    print(spec[4].text)\n",
    "    print(spec[5].text)"
   ]
  },
  {
   "cell_type": "markdown",
   "id": "6ee6e218",
   "metadata": {},
   "source": [
    "# Till now we have just extracted the data of one mobile but now we need the data of all the mobiles available on the page so we will be run a loop and store the data in the defined lists."
   ]
  },
  {
   "cell_type": "markdown",
   "id": "808b6124",
   "metadata": {},
   "source": [
    "### First, defining the lists to store the value of each feature"
   ]
  },
  {
   "cell_type": "code",
   "execution_count": 11,
   "id": "374e9673",
   "metadata": {},
   "outputs": [],
   "source": [
    "products=[]              #List to store the name of the product\n",
    "prices=[]                #List to store price of the product\n",
    "ratings=[]               #List to store rating of the product\n",
    "ram = []                #List to store supported rams                \n",
    "display = []                  #List to store display details\n",
    "camera = []                  #List to store camera resolution\n",
    "battery = []               #List to store battery specifications"
   ]
  },
  {
   "cell_type": "code",
   "execution_count": 12,
   "id": "bd50057b",
   "metadata": {},
   "outputs": [],
   "source": [
    "for data in page_soup.findAll('div',class_='_3pLy-c row'):\n",
    "        names=data.find('div', attrs={'class':'_4rR01T'})\n",
    "        price=data.find('div', attrs={'class':'_30jeq3 _1_WHN1'})\n",
    "        rating=data.find('div', attrs={'class':'_3LWZlK'})\n",
    "        specification = data.find('div', attrs={'class':'fMghEO'})\n",
    "        \n",
    "        for each in specification:\n",
    "            col=each.find_all('li', attrs={'class':'rgWa7D'})\n",
    "            ram_ = col[0].text\n",
    "            display_ = col[1].text\n",
    "            camera_ = col[2].text\n",
    "            battery_ = col[3].text\n",
    "        products.append(names.text) # Add product name to list\n",
    "        prices.append(price.text) # Add price to list\n",
    "        ram.append(ram_) # Add supported ram specifications to list\n",
    "        display.append(display_) # Add display specifications to list\n",
    "        camera.append(camera_) # Add resolution specifications to list\n",
    "        battery.append(battery_) # Add battery specifications to list\n",
    "        ratings.append(rating.text)   #Add rating specifications to list"
   ]
  },
  {
   "cell_type": "code",
   "execution_count": 13,
   "id": "069de3ab",
   "metadata": {},
   "outputs": [
    {
     "name": "stdout",
     "output_type": "stream",
     "text": [
      "24\n",
      "24\n",
      "24\n",
      "24\n",
      "24\n",
      "24\n",
      "24\n"
     ]
    }
   ],
   "source": [
    "#printing the length of list\n",
    "print(len(products))\n",
    "print(len(ratings))\n",
    "print(len(prices))\n",
    "print(len(ram))\n",
    "print(len(battery))\n",
    "print(len(display))\n",
    "print(len(camera))"
   ]
  },
  {
   "cell_type": "code",
   "execution_count": 14,
   "id": "1491e3c1",
   "metadata": {},
   "outputs": [
    {
     "data": {
      "text/html": [
       "<div>\n",
       "<style scoped>\n",
       "    .dataframe tbody tr th:only-of-type {\n",
       "        vertical-align: middle;\n",
       "    }\n",
       "\n",
       "    .dataframe tbody tr th {\n",
       "        vertical-align: top;\n",
       "    }\n",
       "\n",
       "    .dataframe thead th {\n",
       "        text-align: right;\n",
       "    }\n",
       "</style>\n",
       "<table border=\"1\" class=\"dataframe\">\n",
       "  <thead>\n",
       "    <tr style=\"text-align: right;\">\n",
       "      <th></th>\n",
       "      <th>Product Name</th>\n",
       "      <th>Supported_ram</th>\n",
       "      <th>Battery_system</th>\n",
       "      <th>Display</th>\n",
       "      <th>Camera Resolution</th>\n",
       "      <th>Price</th>\n",
       "      <th>Rating</th>\n",
       "    </tr>\n",
       "  </thead>\n",
       "  <tbody>\n",
       "    <tr>\n",
       "      <th>0</th>\n",
       "      <td>POCO C31 (Royal Blue, 64 GB)</td>\n",
       "      <td>4 GB RAM | 64 GB ROM | Expandable Upto 512 GB</td>\n",
       "      <td>5000 mAh Lithium-ion Polymer Battery</td>\n",
       "      <td>16.59 cm (6.53 inch) HD+ Display</td>\n",
       "      <td>13MP + 2MP + 2MP | 5MP Front Camera</td>\n",
       "      <td>₹7,749</td>\n",
       "      <td>4.3</td>\n",
       "    </tr>\n",
       "    <tr>\n",
       "      <th>1</th>\n",
       "      <td>POCO C31 (Shadow Gray, 64 GB)</td>\n",
       "      <td>4 GB RAM | 64 GB ROM | Expandable Upto 512 GB</td>\n",
       "      <td>5000 mAh Lithium-ion Polymer Battery</td>\n",
       "      <td>16.59 cm (6.53 inch) HD+ Display</td>\n",
       "      <td>13MP + 2MP + 2MP | 5MP Front Camera</td>\n",
       "      <td>₹7,749</td>\n",
       "      <td>4.3</td>\n",
       "    </tr>\n",
       "    <tr>\n",
       "      <th>2</th>\n",
       "      <td>POCO M4 Pro (Cool Blue, 128 GB)</td>\n",
       "      <td>6 GB RAM | 128 GB ROM | Expandable Upto 1 TB</td>\n",
       "      <td>5000 mAh Lithium-ion Polymer Battery</td>\n",
       "      <td>16.33 cm (6.43 inch) Full HD+ AMOLED Display</td>\n",
       "      <td>64MP + 8MP + 2MP | 16MP Front Camera</td>\n",
       "      <td>₹11,999</td>\n",
       "      <td>4.3</td>\n",
       "    </tr>\n",
       "    <tr>\n",
       "      <th>3</th>\n",
       "      <td>POCO M4 Pro (Power Black, 128 GB)</td>\n",
       "      <td>6 GB RAM | 128 GB ROM | Expandable Upto 1 TB</td>\n",
       "      <td>5000 mAh Lithium-ion Polymer Battery</td>\n",
       "      <td>16.33 cm (6.43 inch) Full HD+ AMOLED Display</td>\n",
       "      <td>64MP + 8MP + 2MP | 16MP Front Camera</td>\n",
       "      <td>₹11,999</td>\n",
       "      <td>4.3</td>\n",
       "    </tr>\n",
       "    <tr>\n",
       "      <th>4</th>\n",
       "      <td>POCO M4 5G (Power Black, 64 GB)</td>\n",
       "      <td>4 GB RAM | 64 GB ROM | Expandable Upto 512 GB</td>\n",
       "      <td>5000 mAh Lithium Ion Polymer Battery</td>\n",
       "      <td>16.71 cm (6.58 inch) Full HD+ Display</td>\n",
       "      <td>50MP + 2MP | 8MP Front Camera</td>\n",
       "      <td>₹10,999</td>\n",
       "      <td>4.2</td>\n",
       "    </tr>\n",
       "    <tr>\n",
       "      <th>5</th>\n",
       "      <td>POCO M4 Pro (Cool Blue, 64 GB)</td>\n",
       "      <td>6 GB RAM | 64 GB ROM | Expandable Upto 1 TB</td>\n",
       "      <td>5000 mAh Lithium-ion Polymer Battery</td>\n",
       "      <td>16.33 cm (6.43 inch) Full HD+ AMOLED Display</td>\n",
       "      <td>64MP + 8MP + 2MP | 16MP Front Camera</td>\n",
       "      <td>₹10,999</td>\n",
       "      <td>4.3</td>\n",
       "    </tr>\n",
       "    <tr>\n",
       "      <th>6</th>\n",
       "      <td>POCO M4 Pro (Yellow, 128 GB)</td>\n",
       "      <td>6 GB RAM | 128 GB ROM | Expandable Upto 1 TB</td>\n",
       "      <td>5000 mAh Lithium-ion Polymer Battery</td>\n",
       "      <td>16.33 cm (6.43 inch) Full HD+ AMOLED Display</td>\n",
       "      <td>64MP + 8MP + 2MP | 16MP Front Camera</td>\n",
       "      <td>₹11,999</td>\n",
       "      <td>4.3</td>\n",
       "    </tr>\n",
       "    <tr>\n",
       "      <th>7</th>\n",
       "      <td>POCO M4 5G (Cool Blue, 64 GB)</td>\n",
       "      <td>4 GB RAM | 64 GB ROM | Expandable Upto 512 GB</td>\n",
       "      <td>5000 mAh Lithium Ion Polymer Battery</td>\n",
       "      <td>16.71 cm (6.58 inch) Full HD+ Display</td>\n",
       "      <td>50MP + 2MP | 8MP Front Camera</td>\n",
       "      <td>₹10,999</td>\n",
       "      <td>4.2</td>\n",
       "    </tr>\n",
       "    <tr>\n",
       "      <th>8</th>\n",
       "      <td>POCO M4 5G (Yellow, 64 GB)</td>\n",
       "      <td>4 GB RAM | 64 GB ROM | Expandable Upto 512 GB</td>\n",
       "      <td>5000 mAh Lithium Ion Polymer Battery</td>\n",
       "      <td>16.71 cm (6.58 inch) Full HD+ Display</td>\n",
       "      <td>50MP + 2MP | 8MP Front Camera</td>\n",
       "      <td>₹10,999</td>\n",
       "      <td>4.2</td>\n",
       "    </tr>\n",
       "    <tr>\n",
       "      <th>9</th>\n",
       "      <td>POCO M4 Pro 5G (Power Black, 64 GB)</td>\n",
       "      <td>4 GB RAM | 64 GB ROM | Expandable Upto 1 TB</td>\n",
       "      <td>5000 mAh Lithium-ion Polymer Battery</td>\n",
       "      <td>16.76 cm (6.6 inch) Full HD+ Display</td>\n",
       "      <td>50MP + 8MP | 16MP Front Camera</td>\n",
       "      <td>₹12,499</td>\n",
       "      <td>4.3</td>\n",
       "    </tr>\n",
       "    <tr>\n",
       "      <th>10</th>\n",
       "      <td>POCO M4 Pro (Power Black, 64 GB)</td>\n",
       "      <td>6 GB RAM | 64 GB ROM | Expandable Upto 1 TB</td>\n",
       "      <td>5000 mAh Lithium-ion Polymer Battery</td>\n",
       "      <td>16.33 cm (6.43 inch) Full HD+ AMOLED Display</td>\n",
       "      <td>64MP + 8MP + 2MP | 16MP Front Camera</td>\n",
       "      <td>₹10,999</td>\n",
       "      <td>4.3</td>\n",
       "    </tr>\n",
       "    <tr>\n",
       "      <th>11</th>\n",
       "      <td>POCO M4 5G (Cool Blue, 128 GB)</td>\n",
       "      <td>6 GB RAM | 128 GB ROM | Expandable Upto 512 GB</td>\n",
       "      <td>5000 mAh Lithium Ion Polymer Battery</td>\n",
       "      <td>16.71 cm (6.58 inch) Full HD+ Display</td>\n",
       "      <td>50MP + 2MP | 8MP Front Camera</td>\n",
       "      <td>₹12,999</td>\n",
       "      <td>4.1</td>\n",
       "    </tr>\n",
       "    <tr>\n",
       "      <th>12</th>\n",
       "      <td>POCO M4 Pro 5G (Cool Blue, 64 GB)</td>\n",
       "      <td>4 GB RAM | 64 GB ROM | Expandable Upto 1 TB</td>\n",
       "      <td>5000 mAh Lithium-ion Polymer Battery</td>\n",
       "      <td>16.76 cm (6.6 inch) Full HD+ Display</td>\n",
       "      <td>50MP + 8MP | 16MP Front Camera</td>\n",
       "      <td>₹12,499</td>\n",
       "      <td>4.3</td>\n",
       "    </tr>\n",
       "    <tr>\n",
       "      <th>13</th>\n",
       "      <td>POCO M4 Pro 5G (Cool Blue, 128 GB)</td>\n",
       "      <td>6 GB RAM | 128 GB ROM | Expandable Upto 1 TB</td>\n",
       "      <td>5000 mAh Lithium-ion Polymer Battery</td>\n",
       "      <td>16.76 cm (6.6 inch) Full HD+ Display</td>\n",
       "      <td>50MP + 8MP | 16MP Front Camera</td>\n",
       "      <td>₹14,499</td>\n",
       "      <td>4.2</td>\n",
       "    </tr>\n",
       "    <tr>\n",
       "      <th>14</th>\n",
       "      <td>POCO M4 Pro (Yellow, 64 GB)</td>\n",
       "      <td>6 GB RAM | 64 GB ROM | Expandable Upto 1 TB</td>\n",
       "      <td>5000 mAh Lithium-ion Polymer Battery</td>\n",
       "      <td>16.33 cm (6.43 inch) Full HD+ AMOLED Display</td>\n",
       "      <td>64MP + 8MP + 2MP | 16MP Front Camera</td>\n",
       "      <td>₹10,999</td>\n",
       "      <td>4.3</td>\n",
       "    </tr>\n",
       "    <tr>\n",
       "      <th>15</th>\n",
       "      <td>POCO M4 Pro 5G (Power Black, 128 GB)</td>\n",
       "      <td>6 GB RAM | 128 GB ROM | Expandable Upto 1 TB</td>\n",
       "      <td>5000 mAh Lithium-ion Polymer Battery</td>\n",
       "      <td>16.76 cm (6.6 inch) Full HD+ Display</td>\n",
       "      <td>50MP + 8MP | 16MP Front Camera</td>\n",
       "      <td>₹14,499</td>\n",
       "      <td>4.2</td>\n",
       "    </tr>\n",
       "    <tr>\n",
       "      <th>16</th>\n",
       "      <td>POCO M4 5G (Power Black, 128 GB)</td>\n",
       "      <td>6 GB RAM | 128 GB ROM | Expandable Upto 512 GB</td>\n",
       "      <td>5000 mAh Lithium Ion Polymer Battery</td>\n",
       "      <td>16.71 cm (6.58 inch) Full HD+ Display</td>\n",
       "      <td>50MP + 2MP | 8MP Front Camera</td>\n",
       "      <td>₹12,999</td>\n",
       "      <td>4.1</td>\n",
       "    </tr>\n",
       "    <tr>\n",
       "      <th>17</th>\n",
       "      <td>POCO X4 Pro 5G (Laser Black, 128 GB)</td>\n",
       "      <td>6 GB RAM | 128 GB ROM | Expandable Upto 1 TB</td>\n",
       "      <td>5000 mAh Lithium-ion Polymer Battery</td>\n",
       "      <td>16.94 cm (6.67 inch) Full HD+ Super AMOLED Dis...</td>\n",
       "      <td>64MP + 8MP + 2MP | 16MP Front Camera</td>\n",
       "      <td>₹16,999</td>\n",
       "      <td>4.1</td>\n",
       "    </tr>\n",
       "    <tr>\n",
       "      <th>18</th>\n",
       "      <td>POCO X4 Pro 5G (Laser Blue, 128 GB)</td>\n",
       "      <td>6 GB RAM | 128 GB ROM | Expandable Upto 1 TB</td>\n",
       "      <td>5000 mAh Lithium-ion Polymer Battery</td>\n",
       "      <td>16.94 cm (6.67 inch) Full HD+ Super AMOLED Dis...</td>\n",
       "      <td>64MP + 8MP + 2MP | 16MP Front Camera</td>\n",
       "      <td>₹16,999</td>\n",
       "      <td>4.1</td>\n",
       "    </tr>\n",
       "    <tr>\n",
       "      <th>19</th>\n",
       "      <td>POCO M4 Pro 5G (Yellow, 128 GB)</td>\n",
       "      <td>6 GB RAM | 128 GB ROM | Expandable Upto 1 TB</td>\n",
       "      <td>5000 mAh Lithium-ion Polymer Battery</td>\n",
       "      <td>16.76 cm (6.6 inch) Full HD+ Display</td>\n",
       "      <td>50MP + 8MP | 16MP Front Camera</td>\n",
       "      <td>₹14,499</td>\n",
       "      <td>4.2</td>\n",
       "    </tr>\n",
       "    <tr>\n",
       "      <th>20</th>\n",
       "      <td>POCO M4 Pro (Cool Blue, 128 GB)</td>\n",
       "      <td>8 GB RAM | 128 GB ROM | Expandable Upto 1 TB</td>\n",
       "      <td>5000 mAh Lithium-ion Polymer Battery</td>\n",
       "      <td>16.33 cm (6.43 inch) Full HD+ AMOLED Display</td>\n",
       "      <td>64MP + 8MP + 2MP | 16MP Front Camera</td>\n",
       "      <td>₹12,999</td>\n",
       "      <td>4.2</td>\n",
       "    </tr>\n",
       "    <tr>\n",
       "      <th>21</th>\n",
       "      <td>POCO X4 Pro 5G (Yellow, 128 GB)</td>\n",
       "      <td>6 GB RAM | 128 GB ROM | Expandable Upto 1 TB</td>\n",
       "      <td>5000 mAh Lithium-ion Polymer Battery</td>\n",
       "      <td>16.94 cm (6.67 inch) Full HD+ Super AMOLED Dis...</td>\n",
       "      <td>64MP + 8MP + 2MP | 16MP Front Camera</td>\n",
       "      <td>₹16,999</td>\n",
       "      <td>4.1</td>\n",
       "    </tr>\n",
       "    <tr>\n",
       "      <th>22</th>\n",
       "      <td>POCO C31 (Royal Blue, 32 GB)</td>\n",
       "      <td>3 GB RAM | 32 GB ROM | Expandable Upto 512 GB</td>\n",
       "      <td>5000 mAh Lithium-ion Polymer Battery</td>\n",
       "      <td>16.59 cm (6.53 inch) HD+ Display</td>\n",
       "      <td>13MP + 2MP + 2MP | 5MP Front Camera</td>\n",
       "      <td>₹7,499</td>\n",
       "      <td>4.3</td>\n",
       "    </tr>\n",
       "    <tr>\n",
       "      <th>23</th>\n",
       "      <td>POCO M4 Pro (Power Black, 128 GB)</td>\n",
       "      <td>8 GB RAM | 128 GB ROM | Expandable Upto 1 TB</td>\n",
       "      <td>5000 mAh Lithium-ion Polymer Battery</td>\n",
       "      <td>16.33 cm (6.43 inch) Full HD+ AMOLED Display</td>\n",
       "      <td>64MP + 8MP + 2MP | 16MP Front Camera</td>\n",
       "      <td>₹12,999</td>\n",
       "      <td>4.2</td>\n",
       "    </tr>\n",
       "  </tbody>\n",
       "</table>\n",
       "</div>"
      ],
      "text/plain": [
       "                            Product Name  \\\n",
       "0           POCO C31 (Royal Blue, 64 GB)   \n",
       "1          POCO C31 (Shadow Gray, 64 GB)   \n",
       "2        POCO M4 Pro (Cool Blue, 128 GB)   \n",
       "3      POCO M4 Pro (Power Black, 128 GB)   \n",
       "4        POCO M4 5G (Power Black, 64 GB)   \n",
       "5         POCO M4 Pro (Cool Blue, 64 GB)   \n",
       "6           POCO M4 Pro (Yellow, 128 GB)   \n",
       "7          POCO M4 5G (Cool Blue, 64 GB)   \n",
       "8             POCO M4 5G (Yellow, 64 GB)   \n",
       "9    POCO M4 Pro 5G (Power Black, 64 GB)   \n",
       "10      POCO M4 Pro (Power Black, 64 GB)   \n",
       "11        POCO M4 5G (Cool Blue, 128 GB)   \n",
       "12     POCO M4 Pro 5G (Cool Blue, 64 GB)   \n",
       "13    POCO M4 Pro 5G (Cool Blue, 128 GB)   \n",
       "14           POCO M4 Pro (Yellow, 64 GB)   \n",
       "15  POCO M4 Pro 5G (Power Black, 128 GB)   \n",
       "16      POCO M4 5G (Power Black, 128 GB)   \n",
       "17  POCO X4 Pro 5G (Laser Black, 128 GB)   \n",
       "18   POCO X4 Pro 5G (Laser Blue, 128 GB)   \n",
       "19       POCO M4 Pro 5G (Yellow, 128 GB)   \n",
       "20       POCO M4 Pro (Cool Blue, 128 GB)   \n",
       "21       POCO X4 Pro 5G (Yellow, 128 GB)   \n",
       "22          POCO C31 (Royal Blue, 32 GB)   \n",
       "23     POCO M4 Pro (Power Black, 128 GB)   \n",
       "\n",
       "                                     Supported_ram  \\\n",
       "0    4 GB RAM | 64 GB ROM | Expandable Upto 512 GB   \n",
       "1    4 GB RAM | 64 GB ROM | Expandable Upto 512 GB   \n",
       "2     6 GB RAM | 128 GB ROM | Expandable Upto 1 TB   \n",
       "3     6 GB RAM | 128 GB ROM | Expandable Upto 1 TB   \n",
       "4    4 GB RAM | 64 GB ROM | Expandable Upto 512 GB   \n",
       "5      6 GB RAM | 64 GB ROM | Expandable Upto 1 TB   \n",
       "6     6 GB RAM | 128 GB ROM | Expandable Upto 1 TB   \n",
       "7    4 GB RAM | 64 GB ROM | Expandable Upto 512 GB   \n",
       "8    4 GB RAM | 64 GB ROM | Expandable Upto 512 GB   \n",
       "9      4 GB RAM | 64 GB ROM | Expandable Upto 1 TB   \n",
       "10     6 GB RAM | 64 GB ROM | Expandable Upto 1 TB   \n",
       "11  6 GB RAM | 128 GB ROM | Expandable Upto 512 GB   \n",
       "12     4 GB RAM | 64 GB ROM | Expandable Upto 1 TB   \n",
       "13    6 GB RAM | 128 GB ROM | Expandable Upto 1 TB   \n",
       "14     6 GB RAM | 64 GB ROM | Expandable Upto 1 TB   \n",
       "15    6 GB RAM | 128 GB ROM | Expandable Upto 1 TB   \n",
       "16  6 GB RAM | 128 GB ROM | Expandable Upto 512 GB   \n",
       "17    6 GB RAM | 128 GB ROM | Expandable Upto 1 TB   \n",
       "18    6 GB RAM | 128 GB ROM | Expandable Upto 1 TB   \n",
       "19    6 GB RAM | 128 GB ROM | Expandable Upto 1 TB   \n",
       "20    8 GB RAM | 128 GB ROM | Expandable Upto 1 TB   \n",
       "21    6 GB RAM | 128 GB ROM | Expandable Upto 1 TB   \n",
       "22   3 GB RAM | 32 GB ROM | Expandable Upto 512 GB   \n",
       "23    8 GB RAM | 128 GB ROM | Expandable Upto 1 TB   \n",
       "\n",
       "                          Battery_system  \\\n",
       "0   5000 mAh Lithium-ion Polymer Battery   \n",
       "1   5000 mAh Lithium-ion Polymer Battery   \n",
       "2   5000 mAh Lithium-ion Polymer Battery   \n",
       "3   5000 mAh Lithium-ion Polymer Battery   \n",
       "4   5000 mAh Lithium Ion Polymer Battery   \n",
       "5   5000 mAh Lithium-ion Polymer Battery   \n",
       "6   5000 mAh Lithium-ion Polymer Battery   \n",
       "7   5000 mAh Lithium Ion Polymer Battery   \n",
       "8   5000 mAh Lithium Ion Polymer Battery   \n",
       "9   5000 mAh Lithium-ion Polymer Battery   \n",
       "10  5000 mAh Lithium-ion Polymer Battery   \n",
       "11  5000 mAh Lithium Ion Polymer Battery   \n",
       "12  5000 mAh Lithium-ion Polymer Battery   \n",
       "13  5000 mAh Lithium-ion Polymer Battery   \n",
       "14  5000 mAh Lithium-ion Polymer Battery   \n",
       "15  5000 mAh Lithium-ion Polymer Battery   \n",
       "16  5000 mAh Lithium Ion Polymer Battery   \n",
       "17  5000 mAh Lithium-ion Polymer Battery   \n",
       "18  5000 mAh Lithium-ion Polymer Battery   \n",
       "19  5000 mAh Lithium-ion Polymer Battery   \n",
       "20  5000 mAh Lithium-ion Polymer Battery   \n",
       "21  5000 mAh Lithium-ion Polymer Battery   \n",
       "22  5000 mAh Lithium-ion Polymer Battery   \n",
       "23  5000 mAh Lithium-ion Polymer Battery   \n",
       "\n",
       "                                              Display  \\\n",
       "0                    16.59 cm (6.53 inch) HD+ Display   \n",
       "1                    16.59 cm (6.53 inch) HD+ Display   \n",
       "2        16.33 cm (6.43 inch) Full HD+ AMOLED Display   \n",
       "3        16.33 cm (6.43 inch) Full HD+ AMOLED Display   \n",
       "4               16.71 cm (6.58 inch) Full HD+ Display   \n",
       "5        16.33 cm (6.43 inch) Full HD+ AMOLED Display   \n",
       "6        16.33 cm (6.43 inch) Full HD+ AMOLED Display   \n",
       "7               16.71 cm (6.58 inch) Full HD+ Display   \n",
       "8               16.71 cm (6.58 inch) Full HD+ Display   \n",
       "9                16.76 cm (6.6 inch) Full HD+ Display   \n",
       "10       16.33 cm (6.43 inch) Full HD+ AMOLED Display   \n",
       "11              16.71 cm (6.58 inch) Full HD+ Display   \n",
       "12               16.76 cm (6.6 inch) Full HD+ Display   \n",
       "13               16.76 cm (6.6 inch) Full HD+ Display   \n",
       "14       16.33 cm (6.43 inch) Full HD+ AMOLED Display   \n",
       "15               16.76 cm (6.6 inch) Full HD+ Display   \n",
       "16              16.71 cm (6.58 inch) Full HD+ Display   \n",
       "17  16.94 cm (6.67 inch) Full HD+ Super AMOLED Dis...   \n",
       "18  16.94 cm (6.67 inch) Full HD+ Super AMOLED Dis...   \n",
       "19               16.76 cm (6.6 inch) Full HD+ Display   \n",
       "20       16.33 cm (6.43 inch) Full HD+ AMOLED Display   \n",
       "21  16.94 cm (6.67 inch) Full HD+ Super AMOLED Dis...   \n",
       "22                   16.59 cm (6.53 inch) HD+ Display   \n",
       "23       16.33 cm (6.43 inch) Full HD+ AMOLED Display   \n",
       "\n",
       "                       Camera Resolution    Price Rating  \n",
       "0    13MP + 2MP + 2MP | 5MP Front Camera   ₹7,749    4.3  \n",
       "1    13MP + 2MP + 2MP | 5MP Front Camera   ₹7,749    4.3  \n",
       "2   64MP + 8MP + 2MP | 16MP Front Camera  ₹11,999    4.3  \n",
       "3   64MP + 8MP + 2MP | 16MP Front Camera  ₹11,999    4.3  \n",
       "4          50MP + 2MP | 8MP Front Camera  ₹10,999    4.2  \n",
       "5   64MP + 8MP + 2MP | 16MP Front Camera  ₹10,999    4.3  \n",
       "6   64MP + 8MP + 2MP | 16MP Front Camera  ₹11,999    4.3  \n",
       "7          50MP + 2MP | 8MP Front Camera  ₹10,999    4.2  \n",
       "8          50MP + 2MP | 8MP Front Camera  ₹10,999    4.2  \n",
       "9         50MP + 8MP | 16MP Front Camera  ₹12,499    4.3  \n",
       "10  64MP + 8MP + 2MP | 16MP Front Camera  ₹10,999    4.3  \n",
       "11         50MP + 2MP | 8MP Front Camera  ₹12,999    4.1  \n",
       "12        50MP + 8MP | 16MP Front Camera  ₹12,499    4.3  \n",
       "13        50MP + 8MP | 16MP Front Camera  ₹14,499    4.2  \n",
       "14  64MP + 8MP + 2MP | 16MP Front Camera  ₹10,999    4.3  \n",
       "15        50MP + 8MP | 16MP Front Camera  ₹14,499    4.2  \n",
       "16         50MP + 2MP | 8MP Front Camera  ₹12,999    4.1  \n",
       "17  64MP + 8MP + 2MP | 16MP Front Camera  ₹16,999    4.1  \n",
       "18  64MP + 8MP + 2MP | 16MP Front Camera  ₹16,999    4.1  \n",
       "19        50MP + 8MP | 16MP Front Camera  ₹14,499    4.2  \n",
       "20  64MP + 8MP + 2MP | 16MP Front Camera  ₹12,999    4.2  \n",
       "21  64MP + 8MP + 2MP | 16MP Front Camera  ₹16,999    4.1  \n",
       "22   13MP + 2MP + 2MP | 5MP Front Camera   ₹7,499    4.3  \n",
       "23  64MP + 8MP + 2MP | 16MP Front Camera  ₹12,999    4.2  "
      ]
     },
     "execution_count": 14,
     "metadata": {},
     "output_type": "execute_result"
    }
   ],
   "source": [
    "import pandas as pd\n",
    "df=pd.DataFrame({'Product Name':products,'Supported_ram':ram,'Battery_system':battery,'Display':display,\"Camera Resolution\":camera,'Price':prices,'Rating':ratings})\n",
    "df.head(24)"
   ]
  },
  {
   "cell_type": "code",
   "execution_count": null,
   "id": "a003196e",
   "metadata": {},
   "outputs": [],
   "source": []
  }
 ],
 "metadata": {
  "kernelspec": {
   "display_name": "Python 3",
   "language": "python",
   "name": "python3"
  },
  "language_info": {
   "codemirror_mode": {
    "name": "ipython",
    "version": 3
   },
   "file_extension": ".py",
   "mimetype": "text/x-python",
   "name": "python",
   "nbconvert_exporter": "python",
   "pygments_lexer": "ipython3",
   "version": "3.8.8"
  }
 },
 "nbformat": 4,
 "nbformat_minor": 5
}
